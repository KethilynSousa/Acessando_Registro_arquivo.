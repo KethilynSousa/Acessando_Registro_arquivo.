{
  "nbformat": 4,
  "nbformat_minor": 0,
  "metadata": {
    "colab": {
      "provenance": [],
      "mount_file_id": "1UyZT-1MH-oNxG6NSiNYrC-5TKAzNvynU",
      "authorship_tag": "ABX9TyM1G3Uz5CZ/PJQ39xLdIwJl",
      "include_colab_link": true
    },
    "kernelspec": {
      "name": "python3",
      "display_name": "Python 3"
    },
    "language_info": {
      "name": "python"
    }
  },
  "cells": [
    {
      "cell_type": "markdown",
      "metadata": {
        "id": "view-in-github",
        "colab_type": "text"
      },
      "source": [
        "<a href=\"https://colab.research.google.com/github/KethilynSousa/Acessando_Registro_arquivo./blob/main/Untitled0.ipynb\" target=\"_parent\"><img src=\"https://colab.research.google.com/assets/colab-badge.svg\" alt=\"Open In Colab\"/></a>"
      ]
    },
    {
      "cell_type": "code",
      "source": [
        "from google.colab import drive\n",
        "drive.mount('/content/drive')"
      ],
      "metadata": {
        "id": "bFqOgzYL8tRN"
      },
      "execution_count": null,
      "outputs": []
    },
    {
      "cell_type": "code",
      "execution_count": 1,
      "metadata": {
        "id": "96h2PRDgu4Xn"
      },
      "outputs": [],
      "source": [
        "def openLog(nomearq, modo):\n",
        "    arqEntrada = open(nomearq, modo)\n",
        "    return arqEntrada"
      ]
    },
    {
      "cell_type": "code",
      "source": [
        "def openLog(nomearq, modo):\n",
        "    arqEntrada = open(nomearq, modo)\n",
        "\n",
        "    # abre arquivo log.tex no modo de acréscimo e acrescenta log\n",
        "    arqSaída = open('log.txt', 'a')\n",
        "    arqSaída.write('Arquivo {} aberto.\\n'.format(nomearq))\n",
        "    arqSaída.close ()\n",
        "\n",
        "\n",
        "    return arqEntrada"
      ],
      "metadata": {
        "id": "XV-4dG4I2Y06"
      },
      "execution_count": 2,
      "outputs": []
    },
    {
      "cell_type": "code",
      "source": [
        "import time\n",
        "\n",
        "def openLog(nomearq, modo = 'r'):\n",
        "    '''abre arquivo nomearq em certo modo e retorna referencia ao\n",
        "    arquivo aberto; registra o acesso ao arquivo em log.txt'''\n",
        "    arqEntrada = open(nomearq, modo)\n",
        "\n",
        "    arqEntrada = open(nomearq, modo)\n",
        "\n",
        "    # obtém hora atual\n",
        "    now = time.localtime()\n",
        "    nowFormat = time.strftime('%A %b/ %d/%y %I:%M %p', now)\n",
        "\n",
        "    # abre arquivo log.tex no modo de acréscimo e acrescenta log\n",
        "    arqSaída = open('log.txt', 'a')\n",
        "    log = '{}: Arquivo {} aberto.\\n'          #formata string\n",
        "    arqSaída.write(log.format(nowFormat, nomearq))\n",
        "    arqSaída.close ()\n",
        "\n",
        "    print(\"Registro realizado\")\n",
        "\n",
        "    return arqEntrada"
      ],
      "metadata": {
        "id": "RjcYRCLO5E9m"
      },
      "execution_count": 3,
      "outputs": []
    },
    {
      "cell_type": "code",
      "source": [
        "openLog('/content/drive/MyDrive/Colab Notebooks/Kethilyn Sousa/testes.txt')"
      ],
      "metadata": {
        "colab": {
          "base_uri": "https://localhost:8080/"
        },
        "id": "7L1DxCga6GJ7",
        "outputId": "466a0f28-8064-4778-9ffd-bdb7c067274d"
      },
      "execution_count": 11,
      "outputs": [
        {
          "output_type": "stream",
          "name": "stdout",
          "text": [
            "Registro realizado\n"
          ]
        },
        {
          "output_type": "execute_result",
          "data": {
            "text/plain": [
              "<_io.TextIOWrapper name='/content/drive/MyDrive/Colab Notebooks/Kethilyn Sousa/testes.txt' mode='r' encoding='utf-8'>"
            ]
          },
          "metadata": {},
          "execution_count": 11
        }
      ]
    }
  ]
}